{
 "cells": [
  {
   "cell_type": "code",
   "execution_count": 1,
   "metadata": {},
   "outputs": [],
   "source": [
    "import os\n",
    "import tensorflow as tf\n",
    "\n",
    "num_threads = 30\n",
    "os.environ[\"OMP_NUM_THREADS\"] = \"5\"\n",
    "os.environ[\"TF_NUM_INTRAOP_THREADS\"] = \"5\"\n",
    "os.environ[\"TF_NUM_INTEROP_THREADS\"] = \"5\"\n",
    "\n",
    "tf.config.threading.set_inter_op_parallelism_threads(\n",
    "    num_threads\n",
    ")\n",
    "tf.config.threading.set_intra_op_parallelism_threads(\n",
    "    num_threads\n",
    ")\n",
    "tf.config.set_soft_device_placement(True)\n",
    "\n",
    "from tensorflow.keras import models, layers\n",
    "import uproot\n",
    "import numpy as np\n",
    "import pandas as pd\n",
    "\n",
    "NUMEPOCHS = 20\n",
    "PHASEMAX = 100\n",
    "PERCENTPILEUP = 0.5\n",
    "NUMTRAINING = 0\n",
    "ModelOutputName = 'triad_1000e'\n"
   ]
  },
  {
   "cell_type": "code",
   "execution_count": 2,
   "metadata": {},
   "outputs": [],
   "source": [
    "\n",
    "\n",
    "def GetData(filename, treename=\"timing\"):\n",
    "    '''\n",
    "    Returns TFile as a pandas dataframe\n",
    "    '''\n",
    "    file = uproot.open(filename)\n",
    "    print(file.keys())\n",
    "    tree = file[treename]\n",
    "    npdf = tree.arrays(library=\"np\")\n",
    "    df =  pd.DataFrame(npdf, columns=npdf.keys())\n",
    "    return df\n",
    "\n",
    "\n",
    "def PlotTraces(traces, n=10):\n",
    "    '''\n",
    "    plot n random traces from the traces array\n",
    "    '''\n",
    "    import matplotlib.pyplot as plt\n",
    "    time = np.arange(0, 600.0, 2.0)\n",
    "    fig = plt.figure(figsize=(10, 5))\n",
    "    for i in range(n):\n",
    "        rand_idx = np.random.randint(0, traces.shape[0])\n",
    "        plt.plot(time, traces[rand_idx][:], label=\"Trace {}\".format(rand_idx))\n",
    "    plt.plot([0, 600], [0, 0], 'k-', lw=2)\n",
    "    plt.grid()\n",
    "    plt.xlabel(\"Time (ns)\")\n",
    "    plt.ylabel(\"Amplitude (mV)\")\n",
    "    plt.legend()\n",
    "    plt.show()\n",
    "\n",
    "def GetTraces(values,traceLength=300):\n",
    "    traces = np.zeros((values.shape[0], traceLength))\n",
    "    for i in range(values.shape[0]):\n",
    "        trace = np.array(values[i]).reshape(traceLength, 1)\n",
    "        traces[i][:] = trace[:, 0]\n",
    "    return traces\n",
    "\n",
    "def NormalizeTraces(traces):\n",
    "    ''' \n",
    "    Normailze traces to have a max of 1 and a min of 0\n",
    "    '''\n",
    "    \n",
    "    for i in range(traces.shape[0]):\n",
    "        min_before_peak = np.min(traces[i][:100])\n",
    "        traces[i][:] = traces[i][:] - min_before_peak\n",
    "        \n",
    "    return traces / np.max(traces, axis=1)[:, None]\n",
    "\n",
    "def NormalizeTraces2(traces):\n",
    "    for i in range(traces.shape[0]):\n",
    "        baseline = np.average(traces[i][0:40])\n",
    "        traces[i] -= baseline\n",
    "        tmax = np.amax(traces[i])\n",
    "        traces[i] /= tmax\n",
    "    return traces\n",
    "\n",
    "def OneHotEndocePileup(pileup):\n",
    "    pileup_one_hot = np.zeros((pileup.shape[0], 2))\n",
    "    for i in range(pileup.shape[0]):\n",
    "        if pileup[i]:\n",
    "            pileup_one_hot[i][:] = [1, 0]\n",
    "        else:\n",
    "            pileup_one_hot[i][:] = [0, 1]\n",
    "    return pileup_one_hot\n",
    "\n",
    "def GetPhases(phases):\n",
    "    phase = np.zeros((phases.shape[0], 1))\n",
    "    for i in range(phases.shape[0]):\n",
    "        if phases[i] > 0:\n",
    "            phase[i] = phases[i]\n",
    "        else:\n",
    "            phase[i] = 0.0\n",
    "    return phase\n",
    "    \n",
    "def PlotPhasesAndTrace(traces, phases, onehot, n =10):\n",
    "    import matplotlib.pyplot as plt\n",
    "    time = np.arange(0, 600.0, 2.0)\n",
    "    ygrid = n//5\n",
    "    if n%5 != 0:\n",
    "        ygrid += 1\n",
    "    fig, ax = plt.subplots(ygrid, 5 ,figsize=(20, ygrid*3), sharex=True, sharey=True)\n",
    "    for i in range(n):\n",
    "        rand_idx = np.random.randint(0, traces.shape[0])\n",
    "        ax[i//5, i%5].plot(time, traces[rand_idx][:], label=\"Trace {}\".format(rand_idx))\n",
    "        ax[i//5, i%5].plot([0, 600], [0, 0], 'k-', lw=2)\n",
    "        if i%5 == 0:\n",
    "            ax[i//5, i%5].set_ylabel(\"Amplitude (mV)\")\n",
    "        if i//5 == ygrid-1:\n",
    "            ax[i//5, i%5].set_xlabel(\"Time (ns)\")\n",
    "            \n",
    "        ax[i//5, i%5].set_xlim(0, 600)\n",
    "        ax[i//5, i%5].set_ylim(-0.1, 1.15)\n",
    "        ax[i//5, i%5].text(0.05, 0.9, \"Trace #{}\".format(rand_idx), fontsize=10, color='black', transform=ax[i//5, i%5].transAxes,fontweight='bold')\n",
    "        if onehot[rand_idx][0]:\n",
    "            ax[i//5, i%5].text(0.55, 0.9, \"Shift: {0:.2f} ns\".format(phases[rand_idx][0]), fontsize=10, color='blue', transform=ax[i//5, i%5].transAxes)\n",
    "        else:\n",
    "            ax[i//5, i%5].text(0.55, 0.9, \"No Pileup\", fontsize=10, color='red', transform=ax[i//5, i%5].transAxes)\n",
    "    plt.show()\n",
    "    \n",
    "\n",
    "\n",
    "# def PhaseNet():\n",
    "#     input = layers.Input(shape=(300,1))\n",
    "#     conv1 = layers.Conv1D(kernel_size=10, filters=64, activation='tanh')(input)\n",
    "#     max1 = layers.MaxPooling1D(pool_size=1)(conv1)\n",
    "#     conv2 = layers.Conv1D(kernel_size=10, filters=64, activation='relu')(max1)\n",
    "#     max2 = layers.MaxPooling1D(pool_size=1)(conv2)\n",
    "#     conv3 = layers.Conv1D(kernel_size=1, filters=64, activation='relu')(max2)\n",
    "#     max3 = layers.MaxPooling1D(pool_size=1)(conv3)\n",
    "#     conv4 = layers.Conv1D(kernel_size=2, filters=64, activation='relu', padding='same')(max3)\n",
    "#     max4 = layers.MaxPooling1D(pool_size=10)(conv4)\n",
    "    \n",
    "#     flat1 = layers.Flatten()(max4)\n",
    "#     dense1 = layers.Dense(264, activation='relu')(flat1)\n",
    "#     dense2 = layers.Dense(128, activation='relu')(dense1)\n",
    "#     dense3 = layers.Dense(64, activation='relu')(dense2)\n",
    "#     output = layers.Dense(1, activation='linear')(dense3)\n",
    "    \n",
    "#     model = models.Model(inputs=input, outputs=output)\n",
    "#     model.summary()\n",
    "    \n",
    "#     return model\n",
    "\n",
    "# filename = 'ysoLabr3975V.root'\n",
    "# tree = 'timing'\n",
    "# traceBranch = \"traceone\"\n",
    "# traceLength = 300\n",
    "# # pdf = GetData(\"ysoTracesWithPileup.root\",'timing')\n",
    "# # pdf = pdf[pdf[\"trace\"].apply(lambda x: x.shape[0] == 300)].reset_index(drop=True)\n",
    "# # pile_up_one_hot = OneHotEndocePileup(pdf[\"pileup\"].values)\n",
    "# # phase_shifts = GetPhases(pdf[\"phase\"].values)\n",
    "# # traces = GetTraces(pdf[\"trace\"].values)\n",
    "# pdf = GetData(filename,tree)\n",
    "# pdf = pdf[pdf[traceBranch].apply(lambda x: x.shape[0] == traceLength)].reset_index(drop=True)\n",
    "# pdf = pdf[pdf[\"qdcone\"].apply(lambda x: x > 100000 and x<250000)].reset_index(drop=True)\n",
    "# # pile_up_one_hot = OneHotEndocePileup(pdf[\"pileup\"].values)\n",
    "# # phase_shifts = GetPhases(pdf[\"phase\"].values)\n",
    "# traces = GetTraces(pdf[traceBranch].values,traceLength)"
   ]
  },
  {
   "cell_type": "code",
   "execution_count": 3,
   "metadata": {},
   "outputs": [],
   "source": [
    "def getRandomPileupTraces(tt1,tt2,rndphase,scale):\n",
    "  newtot = np.zeros_like(tt1)\n",
    "  newtt1 = np.zeros_like(tt1)\n",
    "  newtt2 = np.zeros_like(tt2)\n",
    "  std2 = np.std(tt2[:60]) # gets deviation for baseline\n",
    "  for i in range(len(tt1)):\n",
    "    newtt1[i] = tt1[i]\n",
    "    if(i<rndphase):\n",
    "      newtot[i] = tt1[i]\n",
    "      newtt2[i] = np.random.normal(0,std2) # gaussian random for baseline\n",
    "    else:\n",
    "      i2 = int(i-rndphase)\n",
    "      newtt2[i] = (tt2[i2+1]-tt2[i2])*(rndphase-int(rndphase))+tt2[i2]\n",
    "      newtt2[i] *= scale\n",
    "      newtot[i] = tt1[i] + newtt2[i]\n",
    "  max = np.max(newtot)\n",
    "  nmin = np.min(newtot)\n",
    "  min = newtt2[-1] if newtt1[-1]>newtt2[-1] else  newtt1[-1] #normalizes bottom\n",
    "  scale = max-nmin\n",
    "  # print(max,nmin,min,scale)\n",
    "  return (newtot)/max,newtt1/max,newtt2/max\n",
    "\n",
    "def augmentTraces(dataset,numAugs,labels=None,otherdata=None,otherdata2=None,otherdata3=None):\n",
    "  newData = []\n",
    "  newLabels = []\n",
    "  newOther = []\n",
    "  newOther2 = []\n",
    "  newOther3 = []\n",
    "  for iter in range(len(dataset)):\n",
    "    for i in range(numAugs):\n",
    "      newData.append(dataset[iter][4*i:-4*numAugs+4*i])\n",
    "      newLabels.append(labels[iter])\n",
    "      newOther.append(otherdata[iter])\n",
    "      newOther2.append(otherdata2[iter])\n",
    "      newOther3.append(otherdata3[iter])\n",
    "  newData = np.array(newData)\n",
    "  newLabels = np.array(newLabels)\n",
    "  newOther = np.array(newOther)\n",
    "  newOther2 = np.array(newOther2)\n",
    "  newOther3 = np.array(newOther3)\n",
    "  return newData, newLabels, newOther, newOther2, newOther3"
   ]
  },
  {
   "cell_type": "code",
   "execution_count": 4,
   "metadata": {},
   "outputs": [],
   "source": [
    "# traces_no_pileup = pdf[\"trace\"].values[pdf[\"pileup\"].values == False]\n",
    "# traces_with_pileup = pdf[\"trace\"].values[pdf[\"pileup\"].values == True]\n",
    "# rand_phase_shifts = np.random.uniform(0.1, PHASEMAX, traces_no_pileup.shape[0])\n",
    "# rand_amplitude_shifts = np.random.uniform(0.5, 1.5, traces_no_pileup.shape[0])\n",
    "# rand_ifPile = np.random.uniform(0, 1, traces_no_pileup.shape[0])\n",
    "\n",
    "# phase_amplitude = np.zeros((traces_no_pileup.shape[0], 2))\n",
    "# traces_depiled = np.zeros((traces_no_pileup.shape[0], 2, 300))\n",
    "# traces_piledup = np.zeros((traces_no_pileup.shape[0], 300,1))\n",
    "\n",
    "# for i in range(traces_no_pileup.shape[0]):\n",
    "#     if rand_ifPile[i]<PERCENTPILEUP:\n",
    "#         rand_trace = int(np.random.uniform(0,traces_no_pileup.shape[0]))\n",
    "#         traces_piledup[i][:,0],traces_depiled[i][0][:],traces_depiled[i][1][:] = getRandomPileupTraces(traces_no_pileup[i][:300],traces_no_pileup[rand_trace][:300],rand_phase_shifts[i],rand_amplitude_shifts[i])\n",
    "#         phase_amplitude[i][0] = rand_phase_shifts[i]\n",
    "#         phase_amplitude[i][1] = rand_amplitude_shifts[i]\n",
    "#     else:\n",
    "#         traces_piledup[i][:,0] = traces_no_pileup[i][:300]\n",
    "#         traces_depiled[i][0][:] = traces_no_pileup[i][:300]\n",
    "#         traces_depiled[i][1][:] = np.zeros_like(traces_no_pileup[i][:300])\n",
    "#         phase_amplitude[i][0] = 0.\n",
    "#         phase_amplitude[i][1] = 0.\n",
    "\n",
    "\n",
    "# for i in range(traces_no_pileup.shape[0]):\n",
    "#     traces_piledup[i][:,0] = traces_depiled[i][0][:] + traces_depiled[i][1][:]\n",
    "#     am = np.max(traces_piledup[i][:,0])\n",
    "#     traces_piledup[i][:,0] = traces_piledup[i][:,0] / am\n",
    "#     traces_depiled[i][0][:] = traces_depiled[i][0][:] / am\n",
    "#     traces_depiled[i][1][:] = traces_depiled[i][1][:] / am\n",
    "\n",
    "# new_traces_with_pileup = []\n",
    "# for t in traces_with_pileup:\n",
    "#   nt = t.flatten()\n",
    "#   new_traces_with_pileup.append(nt)\n"
   ]
  },
  {
   "cell_type": "code",
   "execution_count": 8,
   "metadata": {},
   "outputs": [
    {
     "name": "stdout",
     "output_type": "stream",
     "text": [
      "1.5\n",
      "data/lyso210Po/lysoPileup241AmnoAmp.root\n",
      "['data;67', 'data;66']\n",
      "160290000\n",
      "159238599\n"
     ]
    }
   ],
   "source": [
    "import re\n",
    "from itertools import chain\n",
    "\n",
    "NUMEPOCHS = 1000\n",
    "PHASEMAX = 100\n",
    "PERCENTPILEUP = 0.5\n",
    "NUMTRAINING = 20000\n",
    "ModelOutputName = 'triad_1000e'\n",
    "AUGMENTATION = 8\n",
    "TRACELENGTH = 1000\n",
    "\n",
    "# dir = 'data/lyso950V/'\n",
    "# files = ['pileup10600ps.root','pileup11760ps.root','pileup1326ps.root','pileup18350ps.root','pileup20840ps.root','pileup2125ps.root','pileup23180ps.root','pileup27700ps.root','pileup36700ps.root','pileup3735ps.root','pileup46100ps.root','pileup55300ps.root','pileup9246ps.root','pileup9660ps.root','pileup0.root','pileup0Oscilloscope.root','pileup0Pixie.root']\n",
    "# dir2 = 'data/lyso1100V/'\n",
    "# files2 = ['newPileup1270ps.root','newPileup13000ps.root','newPileup14100ps.root','newPileup18400ps.root','newPileup19000ps.root','newPileup2490ps.root','newPileup27700ps.root','newPileup32600ps.root','newPileup3740ps.root','newPileup46200ps.root','newPileup4880ps.root','newPileup9280ps.root','newPileup9660ps.root','newPileup0.root','newPileup0Oscilloscope.root','newPileup0Pixie.root']\n",
    "# zeroFiles = ['pileup0.root','pileup0Oscilloscope.root','pileup0Pixie.root','newPileup0.root','newPileup0Oscilloscope.root','newPileup0Pixie.root']\n",
    "dir = 'data/lyso210Po/'\n",
    "files = ['lysoPileup241AmnoAmp.root']\n",
    "# files = ['lysoPileup0nsFIFOnoAmp.root']\n",
    "# files = ['lysoPileup0nsFIFOnoAmp.root','lysoPileup10nsFIFO5xAmp.root','lysoPileup10nsFIFOnoAmp.root','lysoPileup1_5nsFIFOnoAmp.root','lysoPileup5nsFIFOnoAmp.root']\n",
    "traces = []\n",
    "phases = []\n",
    "ifPile = []\n",
    "qdcs = []\n",
    "amps = []\n",
    "for f in files:\n",
    "    fname = dir+f\n",
    "    tree = 'data'\n",
    "    traceBranch = \"traceone\"\n",
    "    traceLength = 1000\n",
    "    if f=='lysoPileup10nsFIFO5xAmp.root':\n",
    "        phase = 10.0\n",
    "    elif f=='lysoPileup1_5nsFIFOnoAmp.root':\n",
    "        phase = 1.5\n",
    "    elif f=='lysoPileup241AmnoAmp.root':\n",
    "        phase = 1.5\n",
    "        traceLength=250\n",
    "    else:\n",
    "        phase = float(re.sub('\\D','',f))\n",
    "    # phase = float(re.sub('\\D','',f))/1000\n",
    "    print(phase)\n",
    "    print(fname)\n",
    "    pdf = GetData(fname,tree)\n",
    "    print(pdf.size)\n",
    "    pdf = pdf[pdf[traceBranch].apply(lambda x: x.shape[0] == traceLength)].reset_index(drop=True)\n",
    "    print(pdf.size)\n",
    "    # pdf = pdf[pdf[\"qdcone\"].apply(lambda x: x > 100000 and x<250000)].reset_index(drop=True)\n",
    "    # # pile_up_one_hot = OneHotEndocePileup(pdf[\"pileup\"].values)\n",
    "    qdcs.append(GetPhases(pdf[\"qdcone\"].values))\n",
    "    tt = GetTraces(pdf[traceBranch].values,traceLength)\n",
    "    traces.append(tt)\n",
    "    phases.append(np.full((len(tt),1),phase))\n",
    "    ifPile.append(np.full((len(tt),1),phase>0))\n",
    "    amps.append(np.full((len(tt),1),phase>0).astype(np.float))\n"
   ]
  },
  {
   "cell_type": "code",
   "execution_count": 9,
   "metadata": {},
   "outputs": [],
   "source": [
    "\n",
    "# for f in files2:\n",
    "#     fname = dir2+f\n",
    "#     tree = 'data'\n",
    "#     traceBranch = \"traceone\"\n",
    "#     traceLength = 250\n",
    "#     phase = float(re.sub('\\D','',f))/1000\n",
    "#     print(phase)\n",
    "#     pdf = GetData(fname,tree)\n",
    "#     pdf = pdf[pdf[traceBranch].apply(lambda x: x.shape[0] == traceLength)].reset_index(drop=True)\n",
    "#     # pdf = pdf[pdf[\"qdcone\"].apply(lambda x: x > 100000 and x<250000)].reset_index(drop=True)\n",
    "#     # # pile_up_one_hot = OneHotEndocePileup(pdf[\"pileup\"].values)\n",
    "#     qdcs.append(GetPhases(pdf[\"qdcone\"].values))\n",
    "#     tt = GetTraces(pdf[traceBranch].values,traceLength)\n",
    "#     traces.append(tt)\n",
    "#     phases.append(np.full((len(tt),1),phase))\n",
    "#     ifPile.append(np.full((len(tt),1),phase>0))\n",
    "#     amps.append(np.full((len(tt),1),phase>0).astype(np.float))\n",
    "\n",
    "# for i in range(len(zeroFiles)):\n",
    "#     f = zeroFiles[i]\n",
    "#     d = dir if i<3 else dir2\n",
    "#     fname = d+f\n",
    "#     tree = 'data'\n",
    "#     traceBranch = \"traceone\"\n",
    "#     traceLength = 250\n",
    "#     phase = float(re.sub('\\D','',f))/1000\n",
    "#     print(phase)\n",
    "#     pdf = GetData(fname,tree)\n",
    "#     pdf = pdf[pdf[traceBranch].apply(lambda x: x.shape[0] == traceLength)].reset_index(drop=True)\n",
    "\n",
    "#     traces_no_pileup = GetTraces(pdf[traceBranch].values,traceLength)\n",
    "    # rand_phase_shifts = np.random.uniform(0.1, PHASEMAX, traces_no_pileup.shape[0])\n",
    "    # rand_amplitude_shifts = np.random.uniform(0.5, 1.5, traces_no_pileup.shape[0])\n",
    "    # rand_ifPile = np.random.uniform(0, 1, traces_no_pileup.shape[0])\n",
    "\n",
    "    # pp = np.zeros((traces_no_pileup.shape[0], 1))\n",
    "    # aa = np.zeros((traces_no_pileup.shape[0], 1))\n",
    "    # ip = np.zeros((traces_no_pileup.shape[0], 1))\n",
    "    # traces_depiled = np.zeros((traces_no_pileup.shape[0], 2, TRACELENGTH))\n",
    "    # traces_piledup = np.zeros((traces_no_pileup.shape[0], TRACELENGTH))\n",
    "\n",
    "    # for i in range(traces_no_pileup.shape[0]):\n",
    "    #     if rand_ifPile[i]<PERCENTPILEUP:\n",
    "    #         rand_trace = int(np.random.uniform(0,traces_no_pileup.shape[0]))\n",
    "    #         traces_piledup[i],traces_depiled[i][0][:],traces_depiled[i][1][:] = getRandomPileupTraces(traces_no_pileup[i][:TRACELENGTH],traces_no_pileup[rand_trace][:TRACELENGTH],rand_phase_shifts[i],rand_amplitude_shifts[i])\n",
    "    #         pp[i] = rand_phase_shifts[i]\n",
    "    #         aa[i] = rand_amplitude_shifts[i]\n",
    "    #         ip[i] = 1\n",
    "    #     else:\n",
    "    #         traces_piledup[i] = traces_no_pileup[i][:TRACELENGTH]\n",
    "    #         traces_depiled[i][0][:] = traces_no_pileup[i][:TRACELENGTH]\n",
    "    #         traces_depiled[i][1][:] = np.zeros_like(traces_no_pileup[i][:TRACELENGTH])\n",
    "    #         pp[i] = 0.\n",
    "    #         aa[i] = 0.\n",
    "    # traces.append(traces_piledup)\n",
    "    # phases.append(pp)\n",
    "    # amps.append(aa)\n",
    "    # qdcs.append(GetPhases(pdf[\"qdcone\"].values))\n",
    "    # ifPile.append(ip)\n"
   ]
  },
  {
   "cell_type": "code",
   "execution_count": 10,
   "metadata": {},
   "outputs": [
    {
     "name": "stdout",
     "output_type": "stream",
     "text": [
      "Formatted Data\n"
     ]
    }
   ],
   "source": [
    "traces = list(chain.from_iterable(traces))\n",
    "phases = list(chain.from_iterable(phases))\n",
    "ifPile = list(chain.from_iterable(ifPile))\n",
    "qdcs = list(chain.from_iterable(qdcs))\n",
    "amps = list(chain.from_iterable(amps))\n",
    "traces = NormalizeTraces(np.array(traces))\n",
    "phases = np.array(phases)\n",
    "ifPile = np.array(ifPile)\n",
    "amps = np.array(amps)\n",
    "qdcs = np.array(qdcs)\n",
    "# amps = ifPile.astype(np.float)\n",
    "print('Formatted Data')\n"
   ]
  },
  {
   "cell_type": "code",
   "execution_count": 11,
   "metadata": {},
   "outputs": [],
   "source": [
    "from sklearn.model_selection import train_test_split\n",
    "# train_x = traces_piledup[:NUMTRAINING]\n",
    "# train_y = phase_amplitude[:NUMTRAINING,0]\n",
    "train_x, test_x, train_y, test_y, train_q, test_q, train_ifPile, test_ifPile, train_amps, test_amps = train_test_split(traces,phases,qdcs,ifPile,amps,test_size=0.9)"
   ]
  },
  {
   "cell_type": "code",
   "execution_count": 12,
   "metadata": {},
   "outputs": [],
   "source": [
    "new_model = tf.keras.models.load_model('models/'+ModelOutputName)\n",
    "# train_x = traces_piledup[:10000]\n",
    "# train_y = [phase_amplitude[:10000],traces_depiled[:10000]]"
   ]
  },
  {
   "cell_type": "code",
   "execution_count": 13,
   "metadata": {},
   "outputs": [
    {
     "name": "stdout",
     "output_type": "stream",
     "text": [
      "(3674737, 218)\n"
     ]
    }
   ],
   "source": [
    "# test_x = np.array(traces[NUMTRAINING:NUMTRAINING+90000])\n",
    "# test_p = np.array(phases[NUMTRAINING:NUMTRAINING+90000])\n",
    "# test_q = np.array(qdcs[NUMTRAINING:NUMTRAINING+90000])\n",
    "# test_a = np.array(amps[NUMTRAINING:NUMTRAINING+90000])\n",
    "# test_i = np.array(ifPile[NUMTRAINING:NUMTRAINING+90000])\n",
    "# test_x = NormalizeTraces2(traces)\n",
    "# test_x = np.array(new_traces_with_pileup[NUMTRAINING:NUMTRAINING+10000])\n",
    "# test_y = phase_shifts[NUMTRAINING:NUMTRAINING+10000]\n",
    "# test_phase_amp = phase_amplitude[NUMTRAINING:NUMTRAINING+10000]\n",
    "# print(test_x.shape)\n",
    "test_x = test_x[:,0:218]\n",
    "test_p = test_y\n",
    "print(test_x.shape)\n",
    "test_y_hat = new_model.predict(test_x)\n",
    "# test_amp = test_phase_amp[:,1].reshape(-1,1)\n",
    "# test_phase = test_y[:,0].reshape(-1,1)\n",
    "# new_phase = test_y_hat[0][:,0].reshape(-1,1)\n",
    "# new_amp = test_y_hat[0][:,1].reshape(-1,1) # - test_amp\n",
    "# phi_res = test_y_hat[0][:,0].reshape(-1,1) - test_y[:,0].reshape(-1,1)"
   ]
  },
  {
   "cell_type": "code",
   "execution_count": 14,
   "metadata": {},
   "outputs": [
    {
     "name": "stdout",
     "output_type": "stream",
     "text": [
      "114836/114836 [==============================] - 412s 4ms/step - loss: 40.7061 - dense_1_loss: 35.7737 - dense_3_loss: 4.3093 - dense_5_loss: 0.6231 - dense_1_accuracy: 0.4597 - dense_3_accuracy: 0.0000e+00 - dense_5_accuracy: 0.2935\n",
      "test loss, test acc: [40.706111907958984, 35.77368927001953, 4.309267520904541, 0.6231169700622559, 0.4597025513648987, 0.0, 0.29350727796554565]\n"
     ]
    }
   ],
   "source": [
    "results = new_model.evaluate(test_x,[test_ifPile,test_y,test_amps])\n",
    "print(\"test loss, test acc:\", results)"
   ]
  },
  {
   "cell_type": "code",
   "execution_count": 15,
   "metadata": {},
   "outputs": [
    {
     "name": "stdout",
     "output_type": "stream",
     "text": [
      "7\n"
     ]
    }
   ],
   "source": [
    "print(len(results))"
   ]
  },
  {
   "cell_type": "code",
   "execution_count": 16,
   "metadata": {},
   "outputs": [
    {
     "name": "stdout",
     "output_type": "stream",
     "text": [
      "[1.5]\n"
     ]
    }
   ],
   "source": [
    "test_a = test_amps\n",
    "test_y_hat = np.array(test_y_hat)\n",
    "print(test_p[1])"
   ]
  },
  {
   "cell_type": "code",
   "execution_count": 25,
   "metadata": {},
   "outputs": [
    {
     "name": "stdout",
     "output_type": "stream",
     "text": [
      "(3674737, 1) <class 'numpy.ndarray'>\n"
     ]
    },
    {
     "data": {
      "text/plain": [
       "Text(0.5, 0, 'Residual [ns]')"
      ]
     },
     "execution_count": 25,
     "metadata": {},
     "output_type": "execute_result"
    },
    {
     "data": {
      "image/png": "[encoded data removed]",
      "text/plain": [
       "<Figure size 1080x576 with 4 Axes>"
      ]
     },
     "metadata": {
      "needs_background": "light"
     },
     "output_type": "display_data"
    }
   ],
   "source": [
    "import matplotlib.pyplot as plt\n",
    "pres = []\n",
    "for i in range(len(test_y_hat[1])):\n",
    "  pres.append(test_y_hat[1,i]-test_p[i])\n",
    "pres = np.array(pres)\n",
    "\n",
    "print(pres.shape,type(test_a))\n",
    "\n",
    "import matplotlib.pyplot as plt\n",
    "# from sklearn.metrics import confusion_matrix\n",
    "\n",
    "fig, ax = plt.subplots(2, 2 ,figsize=(15, 8))\n",
    "# n = np.random.randint(0, test_x.shape[0])\n",
    "\n",
    "# ax[0][0].hist2d(test_y[:,1],test_y_hat[:,1],bins=2)\n",
    "# ax[0][0].set_xlabel(\"Real Pileup\")\n",
    "# ax[0][0].set_ylabel(\"Predicted Pileup\")\n",
    "\n",
    "# ax[0][1].plot(pres,test_a, 'o', color='black',alpha=0.5)\n",
    "# a1 = [[pres[i],test_a[i]] for i in range(len(pres))]\n",
    "ax[0][1].hist2d(test_y_hat[1][:,0],test_y_hat[0][:,0],bins=(1000,2),range=((-10,10),(0,1)),cmap='nipy_spectral_r')\n",
    "# ax[0][1].set_xlim(-5,5)\n",
    "ax[0][1].set_ylabel(\"Pred. Pileup\")\n",
    "ax[0][1].set_xlabel(\"Pred. Phase Shift (ns)\")\n",
    "\n",
    "# ax[1][1].plot(test_p,test_y_hat[1], 'o', color='black',alpha=0.5)\n",
    "# a2 = [[test_p[i],test_y_hat[1,i]] for i in range(len(pres))]\n",
    "ax[1][1].hist2d(test_y_hat[1][:,0],test_p[:,0],bins=(100,100),range=((-2,12),(-2,12)),cmap='nipy_spectral_r')\n",
    "ax[1][1].set_ylabel(\"Truth Phase shift [ns]\")\n",
    "ax[1][1].set_xlabel(\"Predicted Phase Shift [ns]\")\n",
    "\n",
    "ax[0][0].hist(pres,bins=1000,range=(-10,10))#,range=(-5,5))\n",
    "ax[0][0].set_xlabel(\"Residual [ns]\")\n",
    "ax[0][0].set_ylabel(\"Counts\")\n",
    "\n",
    "# ax[1][0].plot(pres,test_p, 'o', color='black',alpha=0.5)\n",
    "# a3 = [[pres[i],test_a[i]] for i in range(len(pres))]\n",
    "ax[1][0].hist2d(pres[:,0],test_p[:,0],bins=(100,100),range=((-10,10),(0,10)),cmap='nipy_spectral_r')\n",
    "# ax[1][0].set_xlim(-5,5)\n",
    "ax[1][0].set_ylabel(\"Truth Phase shift [ns]\")\n",
    "ax[1][0].set_xlabel(\"Residual [ns]\")\n"
   ]
  },
  {
   "cell_type": "code",
   "execution_count": 26,
   "metadata": {},
   "outputs": [],
   "source": [
    "pred_nopile = []\n",
    "pred_pile = []\n",
    "for i in range(len(test_y_hat[0])):\n",
    "  if test_y_hat[0][i][0]==1:\n",
    "    pred_pile.append(test_y_hat[1][i][0])\n",
    "  else:\n",
    "    pred_nopile.append(test_y_hat[1][i][0])\n"
   ]
  },
  {
   "cell_type": "markdown",
   "metadata": {},
   "source": []
  },
  {
   "cell_type": "code",
   "execution_count": 32,
   "metadata": {},
   "outputs": [
    {
     "data": {
      "image/png": "[encoded data removed]",
      "text/plain": [
       "<Figure size 432x288 with 1 Axes>"
      ]
     },
     "metadata": {
      "needs_background": "light"
     },
     "output_type": "display_data"
    }
   ],
   "source": [
    "from scipy.optimize import curve_fit\n",
    "\n",
    "# baselines = [t[0:40] for t in traces]\n",
    "# baselines = np.array(baselines).flatten()\n",
    "\n",
    "def fit_exp(x,A,lam):\n",
    "  return np.exp(A+lam*x)\n",
    "\n",
    "# rngeup = 15\n",
    "# bins = np.linspace(-0.01,0.01,1001)\n",
    "# data = np.histogram(baselines,bins=bins)\n",
    "# binscenters = np.array([0.5 * (bins[i] + bins[i+1]) for i in range(len(bins)-1)])\n",
    "# popt, pcov = curve_fit(fit_exp,xdata=binscenters,ydata=data[0],p0=[60000.,0.0,0.01])\n",
    "# print(popt)\n",
    "# textstr = '\\n'.join((r'$Amp=%.2f$' % (popt[0],),\n",
    "#                      r'$\\mu=%.2f$' % (popt[1],),\n",
    "#                      r'$\\sigma=%.2f$' % (popt[2],),))\n",
    "# props = dict(boxstyle='round', facecolor='wheat', alpha=0.5)\n",
    "\n",
    "# plt.hist(test_y_hat[1][:,0],bins=1000,range=(-5,10))\n",
    "plt.hist(pred_nopile,bins=1000,range=(-5,100),histtype='step',color='red')\n",
    "plt.hist(pred_pile,bins=1000,range=(-5,100),histtype='step',color='blue')\n",
    "plt.xlabel(\"Predicted Phase [ns]\")\n",
    "plt.ylabel(\"Counts\")\n",
    "plt.yscale('log')"
   ]
  },
  {
   "cell_type": "code",
   "execution_count": 19,
   "metadata": {},
   "outputs": [
    {
     "ename": "IndexError",
     "evalue": "invalid index to scalar variable.",
     "output_type": "error",
     "traceback": [
      "\u001b[0;31m---------------------------------------------------------------------------\u001b[0m",
      "\u001b[0;31mIndexError\u001b[0m                                Traceback (most recent call last)",
      "\u001b[0;32m<ipython-input-19-fa1867ed1b95>\u001b[0m in \u001b[0;36m<module>\u001b[0;34m\u001b[0m\n\u001b[1;32m      4\u001b[0m     \u001b[0mn\u001b[0m \u001b[0;34m=\u001b[0m \u001b[0mnp\u001b[0m\u001b[0;34m.\u001b[0m\u001b[0mrandom\u001b[0m\u001b[0;34m.\u001b[0m\u001b[0mrandint\u001b[0m\u001b[0;34m(\u001b[0m\u001b[0;36m0\u001b[0m\u001b[0;34m,\u001b[0m \u001b[0mtest_x\u001b[0m\u001b[0;34m.\u001b[0m\u001b[0mshape\u001b[0m\u001b[0;34m[\u001b[0m\u001b[0;36m0\u001b[0m\u001b[0;34m]\u001b[0m\u001b[0;34m)\u001b[0m\u001b[0;34m\u001b[0m\u001b[0;34m\u001b[0m\u001b[0m\n\u001b[1;32m      5\u001b[0m     \u001b[0;31m# ax[i//5, i%5].plot(test_x[i][:,0], label=\"Pile up\")\u001b[0m\u001b[0;34m\u001b[0m\u001b[0;34m\u001b[0m\u001b[0;34m\u001b[0m\u001b[0m\n\u001b[0;32m----> 6\u001b[0;31m     \u001b[0max\u001b[0m\u001b[0;34m[\u001b[0m\u001b[0mi\u001b[0m\u001b[0;34m//\u001b[0m\u001b[0;36m5\u001b[0m\u001b[0;34m,\u001b[0m \u001b[0mi\u001b[0m\u001b[0;34m%\u001b[0m\u001b[0;36m5\u001b[0m\u001b[0;34m]\u001b[0m\u001b[0;34m.\u001b[0m\u001b[0mplot\u001b[0m\u001b[0;34m(\u001b[0m\u001b[0mtest_y_hat\u001b[0m\u001b[0;34m[\u001b[0m\u001b[0;36m1\u001b[0m\u001b[0;34m]\u001b[0m\u001b[0;34m[\u001b[0m\u001b[0mn\u001b[0m\u001b[0;34m]\u001b[0m\u001b[0;34m[\u001b[0m\u001b[0;36m0\u001b[0m\u001b[0;34m]\u001b[0m\u001b[0;34m[\u001b[0m\u001b[0;34m:\u001b[0m\u001b[0;34m]\u001b[0m\u001b[0;34m,\u001b[0m \u001b[0mlabel\u001b[0m\u001b[0;34m=\u001b[0m\u001b[0;34m\"Predicted pulse 1\"\u001b[0m\u001b[0;34m,\u001b[0m \u001b[0mcolor\u001b[0m\u001b[0;34m=\u001b[0m\u001b[0;34m'red'\u001b[0m\u001b[0;34m,\u001b[0m\u001b[0malpha\u001b[0m\u001b[0;34m=\u001b[0m\u001b[0;36m0.7\u001b[0m\u001b[0;34m)\u001b[0m\u001b[0;34m\u001b[0m\u001b[0;34m\u001b[0m\u001b[0m\n\u001b[0m\u001b[1;32m      7\u001b[0m     \u001b[0max\u001b[0m\u001b[0;34m[\u001b[0m\u001b[0mi\u001b[0m\u001b[0;34m//\u001b[0m\u001b[0;36m5\u001b[0m\u001b[0;34m,\u001b[0m \u001b[0mi\u001b[0m\u001b[0;34m%\u001b[0m\u001b[0;36m5\u001b[0m\u001b[0;34m]\u001b[0m\u001b[0;34m.\u001b[0m\u001b[0mplot\u001b[0m\u001b[0;34m(\u001b[0m\u001b[0mtest_y_hat\u001b[0m\u001b[0;34m[\u001b[0m\u001b[0;36m1\u001b[0m\u001b[0;34m]\u001b[0m\u001b[0;34m[\u001b[0m\u001b[0mn\u001b[0m\u001b[0;34m]\u001b[0m\u001b[0;34m[\u001b[0m\u001b[0;36m1\u001b[0m\u001b[0;34m]\u001b[0m\u001b[0;34m[\u001b[0m\u001b[0;34m:\u001b[0m\u001b[0;34m]\u001b[0m\u001b[0;34m,\u001b[0m \u001b[0mlabel\u001b[0m\u001b[0;34m=\u001b[0m\u001b[0;34m\"Depiled pulse 2\"\u001b[0m\u001b[0;34m,\u001b[0m \u001b[0mcolor\u001b[0m\u001b[0;34m=\u001b[0m\u001b[0;34m'blue'\u001b[0m\u001b[0;34m,\u001b[0m\u001b[0malpha\u001b[0m\u001b[0;34m=\u001b[0m\u001b[0;36m0.7\u001b[0m\u001b[0;34m)\u001b[0m\u001b[0;34m\u001b[0m\u001b[0;34m\u001b[0m\u001b[0m\n\u001b[1;32m      8\u001b[0m     \u001b[0max\u001b[0m\u001b[0;34m[\u001b[0m\u001b[0mi\u001b[0m\u001b[0;34m//\u001b[0m\u001b[0;36m5\u001b[0m\u001b[0;34m,\u001b[0m \u001b[0mi\u001b[0m\u001b[0;34m%\u001b[0m\u001b[0;36m5\u001b[0m\u001b[0;34m]\u001b[0m\u001b[0;34m.\u001b[0m\u001b[0mplot\u001b[0m\u001b[0;34m(\u001b[0m\u001b[0mtest_x\u001b[0m\u001b[0;34m[\u001b[0m\u001b[0mn\u001b[0m\u001b[0;34m]\u001b[0m\u001b[0;34m[\u001b[0m\u001b[0;34m:\u001b[0m\u001b[0;34m]\u001b[0m\u001b[0;34m,\u001b[0m \u001b[0mlabel\u001b[0m\u001b[0;34m=\u001b[0m\u001b[0;34m\"Input Pile up\"\u001b[0m\u001b[0;34m,\u001b[0m \u001b[0mcolor\u001b[0m\u001b[0;34m=\u001b[0m\u001b[0;34m'black'\u001b[0m\u001b[0;34m)\u001b[0m\u001b[0;34m\u001b[0m\u001b[0;34m\u001b[0m\u001b[0m\n",
      "\u001b[0;31mIndexError\u001b[0m: invalid index to scalar variable."
     ]
    },
    {
     "data": {
      "image/png": "[encoded data removed]",
      "text/plain": [
       "<Figure size 1800x576 with 10 Axes>"
      ]
     },
     "metadata": {
      "needs_background": "light"
     },
     "output_type": "display_data"
    }
   ],
   "source": [
    "import matplotlib.pyplot as plt\n",
    "fig, ax = plt.subplots(2, 5 ,figsize=(25, 8), sharex=True, sharey=True)\n",
    "for i in range(10):\n",
    "    n = np.random.randint(0, test_x.shape[0])\n",
    "    # ax[i//5, i%5].plot(test_x[i][:,0], label=\"Pile up\")\n",
    "    ax[i//5, i%5].plot(test_y_hat[1][n][0][:], label=\"Predicted pulse 1\", color='red',alpha=0.7)\n",
    "    ax[i//5, i%5].plot(test_y_hat[1][n][1][:], label=\"Depiled pulse 2\", color='blue',alpha=0.7)\n",
    "    ax[i//5, i%5].plot(test_x[n][:], label=\"Input Pile up\", color='black')\n",
    "    # ax[i//5, i%5].plot(test_y[n][0][:], label=\"True pulse 1\", color='red', linestyle='dotted')\n",
    "    # ax[i//5, i%5].plot(test_y[n][1][:], label=\"True pulse 2\", color='blue', linestyle='dotted')\n",
    "    ax[i//5, i%5].set_title(\"Event {}\".format(n))    \n",
    "    ax[i//5, i%5].set_xlim(0, 300)\n",
    "    ax[i//5, i%5].set_ylim(-0.1, 1.75)\n",
    "    ax[i//5, i%5].legend( loc='upper right', ncol=2, fontsize=10)\n",
    "    \n",
    "plt.show()"
   ]
  },
  {
   "cell_type": "code",
   "execution_count": null,
   "metadata": {},
   "outputs": [],
   "source": [
    "listOfPossPiles = []\n",
    "for i in range(len(traces)):\n",
    "  if(new_phase[i]>5 and new_phase[i]<10):\n",
    "    listOfPossPiles.append(i)\n",
    "\n",
    "# print(len(listOfPossPiles),listOfPossPiles[-10:],test_x.shape)\n",
    "fig, ax = plt.subplots(2, 5 ,figsize=(25, 8), sharex=True, sharey=True)\n",
    "for i in range(10):\n",
    "    n = listOfPossPiles[i]\n",
    "    # ax[i//5, i%5].plot(test_x[i][:,0], label=\"Pile up\")\n",
    "    ax[i//5, i%5].plot(test_y_hat[1][n][0][:], label=\"Predicted pulse 1\", color='red',alpha=0.7)\n",
    "    ax[i//5, i%5].plot(test_y_hat[1][n][1][:], label=\"Depiled pulse 2\", color='blue',alpha=0.7)\n",
    "    ax[i//5, i%5].plot(test_x[n][:], label=\"Input Pile up\", color='black')\n",
    "    # ax[i//5, i%5].plot(test_y[n][0][:], label=\"True pulse 1\", color='red', linestyle='dotted')\n",
    "    # ax[i//5, i%5].plot(test_y[n][1][:], label=\"True pulse 2\", color='blue', linestyle='dotted')\n",
    "    ax[i//5, i%5].set_title(\"Event {}\".format(n))    \n",
    "    ax[i//5, i%5].set_xlim(0, 300)\n",
    "    ax[i//5, i%5].set_ylim(-0.1, 1.75)\n",
    "    ax[i//5, i%5].legend( loc='upper right', ncol=2, fontsize=10)"
   ]
  },
  {
   "cell_type": "code",
   "execution_count": null,
   "metadata": {},
   "outputs": [],
   "source": []
  }
 ],
 "metadata": {
  "kernelspec": {
   "display_name": "Python 3",
   "language": "python",
   "name": "python3"
  },
  "language_info": {
   "codemirror_mode": {
    "name": "ipython",
    "version": 3
   },
   "file_extension": ".py",
   "mimetype": "text/x-python",
   "name": "python",
   "nbconvert_exporter": "python",
   "pygments_lexer": "ipython3",
   "version": "3.6.8"
  },
  "orig_nbformat": 4
 },
 "nbformat": 4,
 "nbformat_minor": 2
}
